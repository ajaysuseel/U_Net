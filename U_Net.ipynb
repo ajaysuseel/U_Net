{
  "nbformat": 4,
  "nbformat_minor": 0,
  "metadata": {
    "colab": {
      "provenance": [],
      "authorship_tag": "ABX9TyNXN9C/CCrk6IAkqLpDigVQ",
      "include_colab_link": true
    },
    "kernelspec": {
      "name": "python3",
      "display_name": "Python 3"
    },
    "language_info": {
      "name": "python"
    }
  },
  "cells": [
    {
      "cell_type": "markdown",
      "metadata": {
        "id": "view-in-github",
        "colab_type": "text"
      },
      "source": [
        "<a href=\"https://colab.research.google.com/github/ajaysuseel/U_Net/blob/main/U_Net.ipynb\" target=\"_parent\"><img src=\"https://colab.research.google.com/assets/colab-badge.svg\" alt=\"Open In Colab\"/></a>"
      ]
    },
    {
      "cell_type": "markdown",
      "source": [
        "#Dataset:https://www.kaggle.com/datasets/hasibhaque/football-match-semantic-segmentation"
      ],
      "metadata": {
        "id": "2zjQhOsDwQ47"
      }
    },
    {
      "cell_type": "code",
      "execution_count": null,
      "metadata": {
        "colab": {
          "base_uri": "https://localhost:8080/"
        },
        "id": "J2ZNGTQnuRuS",
        "outputId": "050f1bea-ff4f-429b-e560-be23faa23fba"
      },
      "outputs": [
        {
          "output_type": "stream",
          "name": "stdout",
          "text": [
            "Warning: Looks like you're using an outdated `kagglehub` version (installed: 0.3.6), please consider upgrading to the latest version (0.3.7).\n",
            "Downloading from https://www.kaggle.com/api/v1/datasets/download/hasibhaque/football-match-semantic-segmentation?dataset_version_number=1...\n"
          ]
        },
        {
          "output_type": "stream",
          "name": "stderr",
          "text": [
            "100%|██████████| 141M/141M [00:02<00:00, 69.5MB/s]"
          ]
        },
        {
          "output_type": "stream",
          "name": "stdout",
          "text": [
            "Extracting files...\n"
          ]
        },
        {
          "output_type": "stream",
          "name": "stderr",
          "text": [
            "\n"
          ]
        },
        {
          "output_type": "stream",
          "name": "stdout",
          "text": [
            "Path to dataset files: /root/.cache/kagglehub/datasets/hasibhaque/football-match-semantic-segmentation/versions/1\n"
          ]
        }
      ],
      "source": [
        "import kagglehub\n",
        "\n",
        "# Download latest version\n",
        "path = kagglehub.dataset_download(\"hasibhaque/football-match-semantic-segmentation\")\n",
        "\n",
        "print(\"Path to dataset files:\", path)\n",
        "\n"
      ]
    },
    {
      "cell_type": "code",
      "source": [
        "import os\n",
        "\n",
        "# List files in the downloaded dataset path\n",
        "dataset_path = \"/root/.cache/kagglehub/datasets/hasibhaque/football-match-semantic-segmentation/versions/1\"  # Update if needed\n",
        "files = os.listdir(dataset_path)\n",
        "print(\"Files in dataset:\", files)\n"
      ],
      "metadata": {
        "colab": {
          "base_uri": "https://localhost:8080/"
        },
        "id": "6jz_FsfFu4Mu",
        "outputId": "2747b6d5-bcbc-4b61-b30f-43e4f68ef2de"
      },
      "execution_count": null,
      "outputs": [
        {
          "output_type": "stream",
          "name": "stdout",
          "text": [
            "Files in dataset: ['masks', 'images', 'Labels and Colors.csv']\n"
          ]
        }
      ]
    }
  ]
}